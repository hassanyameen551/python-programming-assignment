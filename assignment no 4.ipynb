{
 "cells": [
  {
   "cell_type": "code",
   "execution_count": null,
   "metadata": {},
   "outputs": [],
   "source": [
    "Person = {\n",
    "    \"F_Name\" :\"Saud\",\n",
    "    \"L_Name\":\"Haseeb\",\n",
    "    \"Age\":12,\n",
    "    \"City\":\"karachi\",\n",
    "}\n",
    "\n",
    "for key,value in Person.items():\n",
    "        print(key,\"=\",value)\n",
    "save = input(\"ENTER YOUR Qualification \\n\")\n",
    "\n",
    "if save != \"\":    \n",
    "        Person[\"Qualification\"] = save\n",
    "        print(\"YOUR Qualification Has Been Update! \\n \\n\")\n",
    "        for key,value in Person.items():\n",
    "                print(key,\"=\",value)\n",
    "else:  \n",
    "            print (\"Sorry PLZ Enter value\")\n",
    "            \n",
    "ch= input('IF YOU LIKE TO UPDATE YOUR QUALIFICATION Y/N \\n ')\n",
    "check = ch.title()\n",
    "if check == 'Y':\n",
    "         up_d = input(\"PLEASE ENTER YOUR UPDATE QUALIFICATION\")\n",
    "if up_d != \"\":    \n",
    "        Person[\"Qualification\"] = up_d\n",
    "        print(\"YOUR Qualification Has Been Update! \\n \\n\")\n",
    "        for key,value in Person.items():\n",
    "                print(key,\"=\",value)\n",
    "\n",
    "elif check == 'N':   \n",
    "         print(\"THANKS YOU !!!\")"
   ]
  },
  {
   "cell_type": "code",
   "execution_count": 5,
   "metadata": {},
   "outputs": [
    {
     "name": "stdout",
     "output_type": "stream",
     "text": [
      "\n",
      "Karachi is in Pakistan.\n",
      "  It has a population of about 1590000.\n",
      "  The Kemari mountains are nearby.\n",
      "\n",
      "Talkeetna is in Alaska.\n",
      "  It has a population of about 8760000.\n",
      "  The Alaska Range mountains are nearby.\n",
      "\n",
      "Kathmandu is in Nepal.\n",
      "  It has a population of about 1007895.\n",
      "  The Himilaya mountains are nearby.\n"
     ]
    }
   ],
   "source": [
    "cities = {\n",
    "    'karachi': {\n",
    "        'country': 'pakistan',\n",
    "        'population': 1590000,\n",
    "        'nearby mountains': 'kemari',\n",
    "        },\n",
    "    'talkeetna': {\n",
    "        'country': 'alaska',\n",
    "        'population': 8760000,\n",
    "        'nearby mountains': 'alaska range',\n",
    "        },\n",
    "    'kathmandu': {\n",
    "        'country': 'nepal',\n",
    "        'population': 1007895,\n",
    "        'nearby mountains': 'himilaya',\n",
    "        }\n",
    "    }\n",
    "\n",
    "for city, city_info in cities.items():\n",
    "    country = city_info['country'].title()\n",
    "    population = city_info['population']\n",
    "    mountains = city_info['nearby mountains'].title()\n",
    "\n",
    "    print(\"\\n\" + city.title() + \" is in \" + country + \".\")\n",
    "    print(\"  It has a population of about \" + str(population) + \".\")\n",
    "    print(\"  The \" + mountains + \" mountains are nearby.\")"
   ]
  },
  {
   "cell_type": "code",
   "execution_count": null,
   "metadata": {},
   "outputs": [
    {
     "name": "stdout",
     "output_type": "stream",
     "text": [
      "How old are you?\n",
      "Enter 'quit' when you are finished. 19\n",
      "  Your ticket is $15.\n",
      "How old are you?\n",
      "Enter 'quit' when you are finished. 3\n",
      "  Your ticket is $10.\n"
     ]
    }
   ],
   "source": [
    "prompt = \"How old are you?\"\n",
    "prompt += \"\\nEnter 'quit' when you are finished. \"\n",
    "\n",
    "while True:\n",
    "    age = input(prompt)\n",
    "    if age == 'quit':\n",
    "        break\n",
    "    age = int(age)\n",
    "\n",
    "    if age < 3:\n",
    "        print(\"  You get in free!\")\n",
    "    elif age < 13:\n",
    "        print(\"  Your ticket is $10.\")\n",
    "    else:\n",
    "        print(\"  Your ticket is $15.\")"
   ]
  },
  {
   "cell_type": "code",
   "execution_count": null,
   "metadata": {},
   "outputs": [],
   "source": [
    "def favorite_book(title):\n",
    "    \"\"\"Display a message about someone's favorite book.\"\"\"\n",
    "    print(title + \" is one of my favorite books.\")\n",
    "\n",
    "favorite_book('tinker bell')"
   ]
  },
  {
   "cell_type": "code",
   "execution_count": null,
   "metadata": {},
   "outputs": [],
   "source": [
    "import random\n",
    "number=random.randint(1, 10)\n",
    "\n",
    "number_of_guesses=1\n",
    "print(\"Number of guesses is limited to only 3 times: \")\n",
    "while (number_of_guesses<=3):\n",
    "    guess_number = int(input(\"Guess the number :\\n\"))\n",
    "    if guess_number<number:\n",
    "        print(\"you enter less number please input greater number.\\n\")\n",
    "    elif guess_number>number:\n",
    "        print(\"you enter greater number please input smaller number.\\n \")\n",
    "    else:\n",
    "        print(\"you won\\n\")\n",
    "        print(number_of_guesses,\"no.of guesses he took to finish.\")\n",
    "        break\n",
    "    print(3-number_of_guesses,\"no. of guesses left\")\n",
    "    number_of_guesses = number_of_guesses + 1\n",
    "\n",
    "if(number_of_guesses>3):\n",
    "    print(\"Game Over\")"
   ]
  },
  {
   "cell_type": "code",
   "execution_count": null,
   "metadata": {},
   "outputs": [],
   "source": []
  }
 ],
 "metadata": {
  "kernelspec": {
   "display_name": "Python 3",
   "language": "python",
   "name": "python3"
  },
  "language_info": {
   "codemirror_mode": {
    "name": "ipython",
    "version": 3
   },
   "file_extension": ".py",
   "mimetype": "text/x-python",
   "name": "python",
   "nbconvert_exporter": "python",
   "pygments_lexer": "ipython3",
   "version": "3.7.4"
  }
 },
 "nbformat": 4,
 "nbformat_minor": 2
}
